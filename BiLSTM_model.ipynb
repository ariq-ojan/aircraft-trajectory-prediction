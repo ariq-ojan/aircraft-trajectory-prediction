{
  "cells": [
    {
      "cell_type": "code",
      "execution_count": null,
      "metadata": {
        "id": "aai9y0Gsx_NV"
      },
      "outputs": [],
      "source": [
        "# Import all modules\n",
        "import os\n",
        "import numpy as np\n",
        "import pandas as pd\n",
        "import torch\n",
        "import torch.nn as nn\n",
        "import torch.optim as optim\n",
        "import matplotlib.pyplot as plt\n",
        "from sklearn.model_selection import train_test_split\n",
        "import pytz\n",
        "from datetime import datetime\n",
        "from sklearn.preprocessing import StandardScaler\n",
        "from sklearn.metrics import mean_squared_error, mean_absolute_error"
      ]
    },
    {
      "cell_type": "code",
      "execution_count": null,
      "metadata": {
        "colab": {
          "base_uri": "https://localhost:8080/"
        },
        "id": "cQcqk3IbzfB5",
        "outputId": "5143d4d4-db5e-47e1-81a3-ecd06902d163"
      },
      "outputs": [
        {
          "name": "stdout",
          "output_type": "stream",
          "text": [
            "Mounted at /content/gdrive/\n"
          ]
        }
      ],
      "source": [
        "# Mount google drive\n",
        "from google.colab import drive\n",
        "drive.mount('/content/gdrive/')"
      ]
    },
    {
      "cell_type": "code",
      "execution_count": null,
      "metadata": {
        "id": "SQse-uB0zrUN"
      },
      "outputs": [],
      "source": [
        "# Define the BLSTM model\n",
        "class BLSTMModel(nn.Module):\n",
        "    def __init__(self, input_size, hidden_size, output_size):\n",
        "        super(BLSTMModel, self).__init__()\n",
        "        self.lstm = nn.LSTM(input_size, hidden_size, batch_first=True)\n",
        "        self.fc = nn.Linear(hidden_size, output_size)\n",
        "\n",
        "    def forward(self, x):\n",
        "        out, _ = self.lstm(x)\n",
        "        out = self.fc(out)\n",
        "        return out"
      ]
    },
    {
      "cell_type": "code",
      "execution_count": null,
      "metadata": {
        "id": "Tg62s4JOzzlx"
      },
      "outputs": [],
      "source": [
        "# Load and preprocess data\n",
        "data_dir = \"path/to/data-directory\"  # Update this path\n",
        "input_features = ['time_s', 'lat_rad', 'lon_rad', 'flight_id']\n",
        "target_features = ['time_s', 'lat_rad', 'lon_rad', 'flight_id']\n",
        "\n",
        "flight_data = pd.read_csv(data_dir + \"path/to/flight-data\")\n",
        "\n",
        "# full_dataset = pd.concat(flight_data, ignore_index=True)\n",
        "full_dataset = flight_data[['time_s', 'lat_rad', 'lon_rad', 'flight_id']]\n",
        "scaler = StandardScaler()\n",
        "normalized_data = scaler.fit_transform(full_dataset)\n",
        "\n",
        "# Split the data into train and test sets\n",
        "train_data, test_data = train_test_split(normalized_data, test_size=0.2, shuffle=False)"
      ]
    },
    {
      "cell_type": "code",
      "execution_count": null,
      "metadata": {
        "id": "t8Rp-nsFz7-v"
      },
      "outputs": [],
      "source": [
        "# Define model and optimizer\n",
        "input_size = len(input_features)\n",
        "hidden_size = 128 # Tune or adjust this value\n",
        "output_size = len(target_features)\n",
        "\n",
        "model = BLSTMModel(input_size, hidden_size, output_size)\n",
        "optimizer = optim.Adam(model.parameters(), lr=0.001)\n",
        "criterion = nn.MSELoss()\n",
        "\n",
        "num_epochs = 150 # Adjust this to your desired sliding window size\n",
        "batch_size = 256 # Adjust this to your desired sliding window size\n",
        "sliding_window_size = 20  # Adjust this to your desired sliding window size\n",
        "step_size = 1  # Adjust this to your desired step size\n",
        "losses = []\n",
        "rmse_values = []\n",
        "mae_values = []"
      ]
    },
    {
      "cell_type": "code",
      "execution_count": null,
      "metadata": {
        "colab": {
          "base_uri": "https://localhost:8080/"
        },
        "id": "QMuCEIv11T8e",
        "outputId": "c196040e-964c-4fbc-c991-2fd45ac827d9"
      },
      "outputs": [
        {
          "name": "stdout",
          "output_type": "stream",
          "text": [
            "Epoch [1/150], Avg Loss: 0.158101, Avg RMSE: 0.180811, Avg MAE: 0.094700\n",
            "Epoch [2/150], Avg Loss: 0.113927, Avg RMSE: 0.084549, Avg MAE: 0.030599\n",
            "Epoch [3/150], Avg Loss: 0.097960, Avg RMSE: 0.065295, Avg MAE: 0.021415\n",
            "Epoch [4/150], Avg Loss: 0.084655, Avg RMSE: 0.057677, Avg MAE: 0.018488\n",
            "Epoch [5/150], Avg Loss: 0.074398, Avg RMSE: 0.055097, Avg MAE: 0.018901\n",
            "Epoch [6/150], Avg Loss: 0.064397, Avg RMSE: 0.052631, Avg MAE: 0.018200\n",
            "Epoch [7/150], Avg Loss: 0.054858, Avg RMSE: 0.048830, Avg MAE: 0.017189\n",
            "Epoch [8/150], Avg Loss: 0.046829, Avg RMSE: 0.047162, Avg MAE: 0.017148\n",
            "Epoch [9/150], Avg Loss: 0.039065, Avg RMSE: 0.042878, Avg MAE: 0.015562\n",
            "Epoch [10/150], Avg Loss: 0.032751, Avg RMSE: 0.040919, Avg MAE: 0.015124\n",
            "Epoch [11/150], Avg Loss: 0.026725, Avg RMSE: 0.038127, Avg MAE: 0.014375\n",
            "Epoch [12/150], Avg Loss: 0.021597, Avg RMSE: 0.035482, Avg MAE: 0.013664\n",
            "Epoch [13/150], Avg Loss: 0.017466, Avg RMSE: 0.032971, Avg MAE: 0.012804\n",
            "Epoch [14/150], Avg Loss: 0.013595, Avg RMSE: 0.029785, Avg MAE: 0.011628\n",
            "Epoch [15/150], Avg Loss: 0.010643, Avg RMSE: 0.027702, Avg MAE: 0.011188\n",
            "Epoch [16/150], Avg Loss: 0.008084, Avg RMSE: 0.024885, Avg MAE: 0.010209\n",
            "Epoch [17/150], Avg Loss: 0.006132, Avg RMSE: 0.022187, Avg MAE: 0.009203\n",
            "Epoch [18/150], Avg Loss: 0.004763, Avg RMSE: 0.020126, Avg MAE: 0.008683\n",
            "Epoch [19/150], Avg Loss: 0.003787, Avg RMSE: 0.018382, Avg MAE: 0.008270\n",
            "Epoch [20/150], Avg Loss: 0.003021, Avg RMSE: 0.016765, Avg MAE: 0.007823\n",
            "Epoch [21/150], Avg Loss: 0.002363, Avg RMSE: 0.015036, Avg MAE: 0.007007\n",
            "Epoch [22/150], Avg Loss: 0.001881, Avg RMSE: 0.014355, Avg MAE: 0.007354\n",
            "Epoch [23/150], Avg Loss: 0.001519, Avg RMSE: 0.012852, Avg MAE: 0.006715\n",
            "Epoch [24/150], Avg Loss: 0.001211, Avg RMSE: 0.011861, Avg MAE: 0.006149\n",
            "Epoch [25/150], Avg Loss: 0.000936, Avg RMSE: 0.011066, Avg MAE: 0.006311\n",
            "Epoch [26/150], Avg Loss: 0.000803, Avg RMSE: 0.010443, Avg MAE: 0.006200\n",
            "Epoch [27/150], Avg Loss: 0.000597, Avg RMSE: 0.008914, Avg MAE: 0.005150\n",
            "Epoch [28/150], Avg Loss: 0.000533, Avg RMSE: 0.009072, Avg MAE: 0.005640\n",
            "Epoch [29/150], Avg Loss: 0.000442, Avg RMSE: 0.008178, Avg MAE: 0.005163\n",
            "Epoch [30/150], Avg Loss: 0.000401, Avg RMSE: 0.008054, Avg MAE: 0.005292\n",
            "Epoch [31/150], Avg Loss: 0.000370, Avg RMSE: 0.007595, Avg MAE: 0.005115\n",
            "Epoch [32/150], Avg Loss: 0.000327, Avg RMSE: 0.007007, Avg MAE: 0.004874\n",
            "Epoch [33/150], Avg Loss: 0.000346, Avg RMSE: 0.007404, Avg MAE: 0.005317\n",
            "Epoch [34/150], Avg Loss: 0.000322, Avg RMSE: 0.006732, Avg MAE: 0.004778\n",
            "Epoch [35/150], Avg Loss: 0.000301, Avg RMSE: 0.006945, Avg MAE: 0.005108\n",
            "Epoch [36/150], Avg Loss: 0.000310, Avg RMSE: 0.006804, Avg MAE: 0.005098\n",
            "Epoch [37/150], Avg Loss: 0.000311, Avg RMSE: 0.006657, Avg MAE: 0.004941\n",
            "Epoch [38/150], Avg Loss: 0.000298, Avg RMSE: 0.006452, Avg MAE: 0.004772\n",
            "Epoch [39/150], Avg Loss: 0.000304, Avg RMSE: 0.006734, Avg MAE: 0.005075\n",
            "Epoch [40/150], Avg Loss: 0.000321, Avg RMSE: 0.006986, Avg MAE: 0.005377\n",
            "Epoch [41/150], Avg Loss: 0.000319, Avg RMSE: 0.006477, Avg MAE: 0.004934\n",
            "Epoch [42/150], Avg Loss: 0.000287, Avg RMSE: 0.005891, Avg MAE: 0.004478\n",
            "Epoch [43/150], Avg Loss: 0.000273, Avg RMSE: 0.006286, Avg MAE: 0.004834\n",
            "Epoch [44/150], Avg Loss: 0.000302, Avg RMSE: 0.006191, Avg MAE: 0.004774\n",
            "Epoch [45/150], Avg Loss: 0.000287, Avg RMSE: 0.007180, Avg MAE: 0.005615\n",
            "Epoch [46/150], Avg Loss: 0.000285, Avg RMSE: 0.006150, Avg MAE: 0.004794\n",
            "Epoch [47/150], Avg Loss: 0.000296, Avg RMSE: 0.005890, Avg MAE: 0.004560\n",
            "Epoch [48/150], Avg Loss: 0.000254, Avg RMSE: 0.005679, Avg MAE: 0.004392\n",
            "Epoch [49/150], Avg Loss: 0.000246, Avg RMSE: 0.005571, Avg MAE: 0.004319\n",
            "Epoch [50/150], Avg Loss: 0.000249, Avg RMSE: 0.005758, Avg MAE: 0.004522\n",
            "Epoch [51/150], Avg Loss: 0.000254, Avg RMSE: 0.005734, Avg MAE: 0.004484\n",
            "Epoch [52/150], Avg Loss: 0.000230, Avg RMSE: 0.005245, Avg MAE: 0.004009\n",
            "Epoch [53/150], Avg Loss: 0.000225, Avg RMSE: 0.005476, Avg MAE: 0.004215\n",
            "Epoch [54/150], Avg Loss: 0.000223, Avg RMSE: 0.006086, Avg MAE: 0.004826\n",
            "Epoch [55/150], Avg Loss: 0.000208, Avg RMSE: 0.005404, Avg MAE: 0.004192\n",
            "Epoch [56/150], Avg Loss: 0.000204, Avg RMSE: 0.005318, Avg MAE: 0.004157\n",
            "Epoch [57/150], Avg Loss: 0.000209, Avg RMSE: 0.005359, Avg MAE: 0.004155\n",
            "Epoch [58/150], Avg Loss: 0.000207, Avg RMSE: 0.005256, Avg MAE: 0.004121\n",
            "Epoch [59/150], Avg Loss: 0.000214, Avg RMSE: 0.005629, Avg MAE: 0.004385\n",
            "Epoch [60/150], Avg Loss: 0.000215, Avg RMSE: 0.005160, Avg MAE: 0.004023\n",
            "Epoch [61/150], Avg Loss: 0.000199, Avg RMSE: 0.004948, Avg MAE: 0.003835\n",
            "Epoch [62/150], Avg Loss: 0.000186, Avg RMSE: 0.004693, Avg MAE: 0.003642\n",
            "Epoch [63/150], Avg Loss: 0.000179, Avg RMSE: 0.005340, Avg MAE: 0.004170\n",
            "Epoch [64/150], Avg Loss: 0.000189, Avg RMSE: 0.004873, Avg MAE: 0.003787\n",
            "Epoch [65/150], Avg Loss: 0.000165, Avg RMSE: 0.004531, Avg MAE: 0.003486\n",
            "Epoch [66/150], Avg Loss: 0.000166, Avg RMSE: 0.004548, Avg MAE: 0.003554\n",
            "Epoch [67/150], Avg Loss: 0.000153, Avg RMSE: 0.004610, Avg MAE: 0.003616\n",
            "Epoch [68/150], Avg Loss: 0.000161, Avg RMSE: 0.004329, Avg MAE: 0.003369\n",
            "Epoch [69/150], Avg Loss: 0.000161, Avg RMSE: 0.004364, Avg MAE: 0.003363\n",
            "Epoch [70/150], Avg Loss: 0.000139, Avg RMSE: 0.003856, Avg MAE: 0.002940\n",
            "Epoch [71/150], Avg Loss: 0.000143, Avg RMSE: 0.004206, Avg MAE: 0.003259\n",
            "Epoch [72/150], Avg Loss: 0.000141, Avg RMSE: 0.004242, Avg MAE: 0.003327\n",
            "Epoch [73/150], Avg Loss: 0.000161, Avg RMSE: 0.004965, Avg MAE: 0.003896\n",
            "Epoch [74/150], Avg Loss: 0.000141, Avg RMSE: 0.004036, Avg MAE: 0.003132\n",
            "Epoch [75/150], Avg Loss: 0.000157, Avg RMSE: 0.004214, Avg MAE: 0.003252\n",
            "Epoch [76/150], Avg Loss: 0.000133, Avg RMSE: 0.003721, Avg MAE: 0.002835\n",
            "Epoch [77/150], Avg Loss: 0.000148, Avg RMSE: 0.004327, Avg MAE: 0.003330\n",
            "Epoch [78/150], Avg Loss: 0.000144, Avg RMSE: 0.003990, Avg MAE: 0.003081\n",
            "Epoch [79/150], Avg Loss: 0.000164, Avg RMSE: 0.004357, Avg MAE: 0.003344\n",
            "Epoch [80/150], Avg Loss: 0.000136, Avg RMSE: 0.003655, Avg MAE: 0.002800\n",
            "Epoch [81/150], Avg Loss: 0.000142, Avg RMSE: 0.003984, Avg MAE: 0.003072\n",
            "Epoch [82/150], Avg Loss: 0.000140, Avg RMSE: 0.003792, Avg MAE: 0.002960\n",
            "Epoch [83/150], Avg Loss: 0.000144, Avg RMSE: 0.004056, Avg MAE: 0.003106\n",
            "Epoch [84/150], Avg Loss: 0.000139, Avg RMSE: 0.003805, Avg MAE: 0.002961\n",
            "Epoch [85/150], Avg Loss: 0.000133, Avg RMSE: 0.003767, Avg MAE: 0.002891\n",
            "Epoch [86/150], Avg Loss: 0.000129, Avg RMSE: 0.003627, Avg MAE: 0.002810\n",
            "Epoch [87/150], Avg Loss: 0.000137, Avg RMSE: 0.003879, Avg MAE: 0.002970\n",
            "Epoch [88/150], Avg Loss: 0.000123, Avg RMSE: 0.003398, Avg MAE: 0.002600\n",
            "Epoch [89/150], Avg Loss: 0.000113, Avg RMSE: 0.003563, Avg MAE: 0.002762\n",
            "Epoch [90/150], Avg Loss: 0.000122, Avg RMSE: 0.003516, Avg MAE: 0.002734\n",
            "Epoch [91/150], Avg Loss: 0.000112, Avg RMSE: 0.003428, Avg MAE: 0.002639\n",
            "Epoch [92/150], Avg Loss: 0.000113, Avg RMSE: 0.003368, Avg MAE: 0.002622\n",
            "Epoch [93/150], Avg Loss: 0.000112, Avg RMSE: 0.003587, Avg MAE: 0.002776\n",
            "Epoch [94/150], Avg Loss: 0.000128, Avg RMSE: 0.003770, Avg MAE: 0.002938\n",
            "Epoch [95/150], Avg Loss: 0.000106, Avg RMSE: 0.003250, Avg MAE: 0.002481\n",
            "Epoch [96/150], Avg Loss: 0.000111, Avg RMSE: 0.003355, Avg MAE: 0.002615\n",
            "Epoch [97/150], Avg Loss: 0.000110, Avg RMSE: 0.003320, Avg MAE: 0.002571\n",
            "Epoch [98/150], Avg Loss: 0.000107, Avg RMSE: 0.003225, Avg MAE: 0.002526\n",
            "Epoch [99/150], Avg Loss: 0.000103, Avg RMSE: 0.003549, Avg MAE: 0.002799\n",
            "Epoch [100/150], Avg Loss: 0.000104, Avg RMSE: 0.003241, Avg MAE: 0.002532\n",
            "Epoch [101/150], Avg Loss: 0.000104, Avg RMSE: 0.003525, Avg MAE: 0.002770\n",
            "Epoch [102/150], Avg Loss: 0.000102, Avg RMSE: 0.003176, Avg MAE: 0.002470\n",
            "Epoch [103/150], Avg Loss: 0.000108, Avg RMSE: 0.003250, Avg MAE: 0.002516\n",
            "Epoch [104/150], Avg Loss: 0.000107, Avg RMSE: 0.003499, Avg MAE: 0.002758\n",
            "Epoch [105/150], Avg Loss: 0.000108, Avg RMSE: 0.003195, Avg MAE: 0.002486\n",
            "Epoch [106/150], Avg Loss: 0.000102, Avg RMSE: 0.003077, Avg MAE: 0.002403\n",
            "Epoch [107/150], Avg Loss: 0.000100, Avg RMSE: 0.003122, Avg MAE: 0.002424\n",
            "Epoch [108/150], Avg Loss: 0.000094, Avg RMSE: 0.002941, Avg MAE: 0.002274\n",
            "Epoch [109/150], Avg Loss: 0.000097, Avg RMSE: 0.003229, Avg MAE: 0.002531\n",
            "Epoch [110/150], Avg Loss: 0.000096, Avg RMSE: 0.003010, Avg MAE: 0.002329\n",
            "Epoch [111/150], Avg Loss: 0.000096, Avg RMSE: 0.003027, Avg MAE: 0.002327\n",
            "Epoch [112/150], Avg Loss: 0.000094, Avg RMSE: 0.003067, Avg MAE: 0.002377\n",
            "Epoch [113/150], Avg Loss: 0.000096, Avg RMSE: 0.003131, Avg MAE: 0.002417\n",
            "Epoch [114/150], Avg Loss: 0.000099, Avg RMSE: 0.003102, Avg MAE: 0.002415\n",
            "Epoch [115/150], Avg Loss: 0.000096, Avg RMSE: 0.003003, Avg MAE: 0.002307\n",
            "Epoch [116/150], Avg Loss: 0.000098, Avg RMSE: 0.003032, Avg MAE: 0.002356\n",
            "Epoch [117/150], Avg Loss: 0.000091, Avg RMSE: 0.003010, Avg MAE: 0.002330\n",
            "Epoch [118/150], Avg Loss: 0.000097, Avg RMSE: 0.002952, Avg MAE: 0.002286\n",
            "Epoch [119/150], Avg Loss: 0.000090, Avg RMSE: 0.003070, Avg MAE: 0.002384\n",
            "Epoch [120/150], Avg Loss: 0.000095, Avg RMSE: 0.003153, Avg MAE: 0.002480\n",
            "Epoch [121/150], Avg Loss: 0.000086, Avg RMSE: 0.002950, Avg MAE: 0.002280\n",
            "Epoch [122/150], Avg Loss: 0.000098, Avg RMSE: 0.003114, Avg MAE: 0.002407\n",
            "Epoch [123/150], Avg Loss: 0.000087, Avg RMSE: 0.003204, Avg MAE: 0.002479\n",
            "Epoch [124/150], Avg Loss: 0.000103, Avg RMSE: 0.003258, Avg MAE: 0.002557\n",
            "Epoch [125/150], Avg Loss: 0.000084, Avg RMSE: 0.002688, Avg MAE: 0.002036\n",
            "Epoch [126/150], Avg Loss: 0.000089, Avg RMSE: 0.003000, Avg MAE: 0.002342\n",
            "Epoch [127/150], Avg Loss: 0.000083, Avg RMSE: 0.002773, Avg MAE: 0.002139\n",
            "Epoch [128/150], Avg Loss: 0.000084, Avg RMSE: 0.002937, Avg MAE: 0.002292\n",
            "Epoch [129/150], Avg Loss: 0.000090, Avg RMSE: 0.002877, Avg MAE: 0.002223\n",
            "Epoch [130/150], Avg Loss: 0.000075, Avg RMSE: 0.002740, Avg MAE: 0.002114\n",
            "Epoch [131/150], Avg Loss: 0.000082, Avg RMSE: 0.002811, Avg MAE: 0.002182\n",
            "Epoch [132/150], Avg Loss: 0.000073, Avg RMSE: 0.002871, Avg MAE: 0.002234\n",
            "Epoch [133/150], Avg Loss: 0.000084, Avg RMSE: 0.002786, Avg MAE: 0.002159\n",
            "Epoch [134/150], Avg Loss: 0.000070, Avg RMSE: 0.002945, Avg MAE: 0.002296\n",
            "Epoch [135/150], Avg Loss: 0.000091, Avg RMSE: 0.002832, Avg MAE: 0.002201\n",
            "Epoch [136/150], Avg Loss: 0.000066, Avg RMSE: 0.002714, Avg MAE: 0.002097\n",
            "Epoch [137/150], Avg Loss: 0.000090, Avg RMSE: 0.002995, Avg MAE: 0.002348\n",
            "Epoch [138/150], Avg Loss: 0.000067, Avg RMSE: 0.002622, Avg MAE: 0.002010\n",
            "Epoch [139/150], Avg Loss: 0.000087, Avg RMSE: 0.002931, Avg MAE: 0.002292\n",
            "Epoch [140/150], Avg Loss: 0.000067, Avg RMSE: 0.002622, Avg MAE: 0.002023\n",
            "Epoch [141/150], Avg Loss: 0.000085, Avg RMSE: 0.002809, Avg MAE: 0.002201\n",
            "Epoch [142/150], Avg Loss: 0.000066, Avg RMSE: 0.002988, Avg MAE: 0.002334\n",
            "Epoch [143/150], Avg Loss: 0.000091, Avg RMSE: 0.002913, Avg MAE: 0.002262\n",
            "Epoch [144/150], Avg Loss: 0.000063, Avg RMSE: 0.002667, Avg MAE: 0.002073\n",
            "Epoch [145/150], Avg Loss: 0.000084, Avg RMSE: 0.002795, Avg MAE: 0.002182\n",
            "Epoch [146/150], Avg Loss: 0.000064, Avg RMSE: 0.002693, Avg MAE: 0.002088\n",
            "Epoch [147/150], Avg Loss: 0.000079, Avg RMSE: 0.002677, Avg MAE: 0.002078\n",
            "Epoch [148/150], Avg Loss: 0.000064, Avg RMSE: 0.002679, Avg MAE: 0.002065\n",
            "Epoch [149/150], Avg Loss: 0.000085, Avg RMSE: 0.002957, Avg MAE: 0.002324\n",
            "Epoch [150/150], Avg Loss: 0.000064, Avg RMSE: 0.002711, Avg MAE: 0.002107\n"
          ]
        }
      ],
      "source": [
        "for epoch in range(num_epochs):\n",
        "    model.train()\n",
        "    total_loss = 0.0\n",
        "    epoch_rmse = 0\n",
        "    epoch_mae = 0\n",
        "\n",
        "    for batch_start in range(0, len(train_data) - (sliding_window_size * batch_size), step_size * batch_size):\n",
        "        batch_data = train_data[batch_start:batch_start + (sliding_window_size * batch_size):step_size]\n",
        "\n",
        "        batch_X = batch_data[:, :input_size].astype(np.float32)\n",
        "        batch_y = batch_data[:, :output_size].astype(np.float32)\n",
        "\n",
        "        batch_X = torch.tensor(batch_X, dtype=torch.float32).view(batch_size, sliding_window_size, input_size)\n",
        "        batch_y = torch.tensor(batch_y, dtype=torch.float32).view(batch_size, sliding_window_size, output_size)\n",
        "\n",
        "        optimizer.zero_grad()\n",
        "        outputs = model(batch_X)\n",
        "        loss = criterion(outputs, batch_y)\n",
        "        loss.backward()\n",
        "        optimizer.step()\n",
        "\n",
        "        total_loss += loss.item()\n",
        "\n",
        "        # Calculate RMSE and MAE\n",
        "        batch_rmse = mean_squared_error(batch_y.view(-1, output_size).detach().numpy(), outputs.view(-1, output_size).detach().numpy(), squared=False)\n",
        "        batch_mae = mean_absolute_error(batch_y.view(-1, output_size).detach().numpy(), outputs.view(-1, output_size).detach().numpy())\n",
        "        epoch_rmse += batch_rmse\n",
        "        epoch_mae += batch_mae\n",
        "\n",
        "    avg_loss = total_loss / ((len(train_data) - (sliding_window_size * batch_size)) // (step_size * batch_size))\n",
        "    avg_rmse = epoch_rmse / ((len(train_data) - (sliding_window_size * batch_size)) // (step_size * batch_size))\n",
        "    avg_mae = epoch_mae / ((len(train_data) - (sliding_window_size * batch_size)) // (step_size * batch_size))\n",
        "\n",
        "    losses.append(avg_loss)\n",
        "    rmse_values.append(avg_rmse)\n",
        "    mae_values.append(avg_mae)\n",
        "\n",
        "    print(f'Epoch [{epoch+1}/{num_epochs}], Avg Loss: {avg_loss:.6f}, Avg RMSE: {avg_rmse:.6f}, Avg MAE: {avg_mae:.6f}')"
      ]
    },
    {
      "cell_type": "code",
      "execution_count": null,
      "metadata": {
        "colab": {
          "base_uri": "https://localhost:8080/",
          "height": 564
        },
        "id": "e77DNuMhEbJ-",
        "outputId": "cb6f87db-55cc-4ea5-c1b0-6b634c72c7d3"
      },
      "outputs": [
        {
          "data": {
            "image/png": "[encoded data removed]",
            "text/plain": [
              "<Figure size 1000x600 with 1 Axes>"
            ]
          },
          "metadata": {},
          "output_type": "display_data"
        }
      ],
      "source": [
        "# Plotting the Loss, RMSE, and MAE\n",
        "plt.figure(figsize=(10, 6))\n",
        "plt.plot(losses, label='Loss')\n",
        "plt.plot(rmse_values, label='RMSE')\n",
        "plt.plot(mae_values, label='MAE')\n",
        "plt.xlabel('Epochs')\n",
        "plt.ylabel('Value')\n",
        "plt.title('Loss, RMSE, and MAE During Training (Unclustered Model)')\n",
        "plt.legend()\n",
        "plt.show()"
      ]
    },
    {
      "cell_type": "code",
      "execution_count": null,
      "metadata": {
        "colab": {
          "base_uri": "https://localhost:8080/"
        },
        "id": "S36Q6Ma6E4y3",
        "outputId": "46e2f458-7c83-4f06-be3b-282fc260c955"
      },
      "outputs": [
        {
          "name": "stderr",
          "output_type": "stream",
          "text": [
            "/usr/local/lib/python3.10/dist-packages/sklearn/base.py:439: UserWarning: X does not have valid feature names, but StandardScaler was fitted with feature names\n",
            "  warnings.warn(\n"
          ]
        }
      ],
      "source": [
        "import pandas as pd\n",
        "import numpy as np\n",
        "import torch\n",
        "\n",
        "# Load the input data from a CSV file\n",
        "input_csv = data_dir + \"path/to/flight-data\" #Change this path to your flight-data dir\n",
        "input_data = pd.read_csv(input_csv)\n",
        "\n",
        "# Convert input_data to a NumPy array and normalize it using the same scaler\n",
        "input_data_array = input_data[input_features].values\n",
        "input_data_array = scaler.transform(input_data_array)\n",
        "\n",
        "# Convert input_data_array to a tensor\n",
        "input_data_tensor = torch.tensor(input_data_array, dtype=torch.float32).unsqueeze(0)\n",
        "\n",
        "# Generate predictions\n",
        "prediction_steps = # Adjust the number of steps as needed\n",
        "predicted_sequence = []\n",
        "\n",
        "with torch.no_grad():\n",
        "    for _ in range(prediction_steps):\n",
        "        output = model(input_data_tensor)\n",
        "        predicted_point = output[:, -1]\n",
        "        denormalized_point = scaler.inverse_transform(predicted_point)\n",
        "\n",
        "        # Prepare the next input using the predicted point\n",
        "        next_input = torch.tensor(denormalized_point, dtype=torch.float32).unsqueeze(0)\n",
        "        input_data_tensor = torch.cat((input_data_tensor, next_input), dim=1)\n",
        "        predicted_sequence.append(denormalized_point[0])"
      ]
    },
    {
      "cell_type": "code",
      "execution_count": null,
      "metadata": {
        "colab": {
          "base_uri": "https://localhost:8080/"
        },
        "id": "IQqmUoDNFCwG",
        "outputId": "a3669716-1e49-454a-c2ca-bca08b1f6911"
      },
      "outputs": [
        {
          "name": "stdout",
          "output_type": "stream",
          "text": [
            "CSV file saved to: gdrive/Shareddrives/TA_Ojan_Bismillah/results/predicted_flight_data_2023-08-23_14:02:48.csv\n"
          ]
        }
      ],
      "source": [
        "# Convert predicted_sequence to a NumPy array and save to CSV\n",
        "predicted_data = np.array(predicted_sequence)\n",
        "predicted_df = pd.DataFrame(predicted_data, columns=target_features)\n",
        "\n",
        "# Save by timestamp\n",
        "timezone = pytz.timezone('Asia/Bangkok')  # GMT+7 (Indochina Time)\n",
        "current_datetime = datetime.now(timezone).strftime('%Y-%m-%d_%H:%M:%S')\n",
        "file_name = f'predicted_flight_data_{current_datetime}.csv'\n",
        "save_path = f'{data_dir}/results/' + file_name\n",
        "predicted_df.to_csv(save_path, index=False)\n",
        "\n",
        "print(f'CSV file saved to: {save_path}')"
      ]
    }
  ],
  "metadata": {
    "colab": {
      "provenance": []
    },
    "kernelspec": {
      "display_name": "Python 3",
      "name": "python3"
    },
    "language_info": {
      "name": "python"
    }
  },
  "nbformat": 4,
  "nbformat_minor": 0
}
